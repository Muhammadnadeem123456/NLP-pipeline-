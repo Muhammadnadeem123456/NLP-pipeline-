{
 "cells": [
  {
   "cell_type": "code",
   "execution_count": null,
   "id": "31693634-802d-4988-98d6-11a1916617a7",
   "metadata": {},
   "outputs": [],
   "source": [
    "# No 2nd step of nlp pipline"
   ]
  },
  {
   "cell_type": "code",
   "execution_count": 1,
   "id": "c11a5a04-0fb7-4678-9831-3072e18a07c6",
   "metadata": {},
   "outputs": [],
   "source": [
    "earning_text=\"\"\"Microsoft Corp. today announced the following results for the quarter ended September 30, 2024, as compared to the corresponding period of last fiscal year:\n",
    "\n",
    "·        Revenue was $65.6 billion and increased 16%\n",
    "\n",
    "·        Operating income was $30.6 billion and increased 14%\n",
    "\n",
    "·        Net income was $24.7 billion and increased 11% (up 10% in constant currency)\n",
    "\n",
    "·        Diluted earnings per share was $3.30 and increased 10%\n",
    "AI-driven transformation is changing work, work artifacts etc, and workflow across every role, function, and business process,\" said Satya Nadella, chairman and chief executive officer of Microsoft. “We are expanding our opportunity and winning new customers as we help them apply our AI platforms and tools to drive new growth and operating leverage.\"\"\""
   ]
  },
  {
   "cell_type": "code",
   "execution_count": 2,
   "id": "95171f14-6bdd-4f42-b118-0b652f753398",
   "metadata": {},
   "outputs": [],
   "source": [
    "import spacy"
   ]
  },
  {
   "cell_type": "markdown",
   "id": "aa05e7f7-167a-46a2-941c-b20c112cb831",
   "metadata": {},
   "source": [
    "How we get efficent text for preprocessing \n",
    "\n",
    "for that we will remove extra and meaningless punctuations, spaces and so on to make our text efficient for preprocessing \n",
    "\n",
    "How pos taging working in the real world applications"
   ]
  },
  {
   "cell_type": "code",
   "execution_count": 7,
   "id": "c4ac99eb-c5a7-4d31-a04d-a07ede498db1",
   "metadata": {},
   "outputs": [
    {
     "name": "stdout",
     "output_type": "stream",
     "text": [
      ", | PUNCT | punctuation\n",
      ", | PUNCT | punctuation\n",
      ": | PUNCT | punctuation\n",
      "\n",
      "\n",
      " | SPACE | space\n",
      "· | PUNCT | punctuation\n",
      "        | SPACE | space\n",
      "\n",
      "\n",
      " | SPACE | space\n",
      "· | PUNCT | punctuation\n",
      "        | SPACE | space\n",
      "\n",
      "\n",
      " | SPACE | space\n",
      "· | PUNCT | punctuation\n",
      "        | SPACE | space\n",
      "( | PUNCT | punctuation\n",
      ") | PUNCT | punctuation\n",
      "\n",
      "\n",
      " | SPACE | space\n",
      "· | PUNCT | punctuation\n",
      "        | SPACE | space\n",
      "\n",
      " | SPACE | space\n",
      "- | PUNCT | punctuation\n",
      ", | PUNCT | punctuation\n",
      "etc | X | other\n",
      ", | PUNCT | punctuation\n",
      ", | PUNCT | punctuation\n",
      ", | PUNCT | punctuation\n",
      ", | PUNCT | punctuation\n",
      "\" | PUNCT | punctuation\n",
      ", | PUNCT | punctuation\n",
      ". | PUNCT | punctuation\n",
      "“ | PUNCT | punctuation\n",
      ". | PUNCT | punctuation\n"
     ]
    }
   ],
   "source": [
    "nlp=spacy.load(\"en_core_web_sm\")\n",
    "doc=nlp(earning_text)\n",
    "for token in doc:\n",
    "    if token.pos_ in [\"X\", \"SPACE\", \"PUNCT\"]:\n",
    "        print(token, \"|\" , token.pos_, \"|\", spacy.explain(token.pos_))"
   ]
  },
  {
   "cell_type": "markdown",
   "id": "0ada6cb2-f144-4319-a0b5-51d27f2ac74b",
   "metadata": {},
   "source": [
    "Garbag Cleaned "
   ]
  },
  {
   "cell_type": "code",
   "execution_count": 8,
   "id": "8b5f2c1b-13dd-4f24-8313-d48d9f0e3bfe",
   "metadata": {},
   "outputs": [],
   "source": [
    "nlp=spacy.load(\"en_core_web_sm\")\n",
    "doc=nlp(earning_text)\n",
    "filtered_token=[]\n",
    "for token in doc:\n",
    "    if token.pos_ not in [\"X\", \"SPACE\", \"PUNCT\"]:\n",
    "        filtered_token.append(token)"
   ]
  },
  {
   "cell_type": "code",
   "execution_count": 11,
   "id": "1ba09e93-40e8-43ac-b923-5873fee0e419",
   "metadata": {},
   "outputs": [
    {
     "data": {
      "text/plain": [
       "[Microsoft,\n",
       " Corp.,\n",
       " today,\n",
       " announced,\n",
       " the,\n",
       " following,\n",
       " results,\n",
       " for,\n",
       " the,\n",
       " quarter,\n",
       " ended,\n",
       " September,\n",
       " 30,\n",
       " 2024,\n",
       " as,\n",
       " compared,\n",
       " to,\n",
       " the,\n",
       " corresponding,\n",
       " period]"
      ]
     },
     "execution_count": 11,
     "metadata": {},
     "output_type": "execute_result"
    }
   ],
   "source": [
    "filtered_token[:20]"
   ]
  },
  {
   "cell_type": "code",
   "execution_count": 13,
   "id": "58d54c1b-9833-4582-9c94-77f96c060099",
   "metadata": {},
   "outputs": [
    {
     "data": {
      "text/plain": [
       "{96: 8,\n",
       " 92: 33,\n",
       " 100: 19,\n",
       " 90: 4,\n",
       " 85: 7,\n",
       " 93: 14,\n",
       " 97: 20,\n",
       " 98: 2,\n",
       " 84: 9,\n",
       " 103: 9,\n",
       " 87: 6,\n",
       " 99: 4,\n",
       " 89: 10,\n",
       " 86: 1,\n",
       " 101: 1,\n",
       " 95: 5,\n",
       " 94: 1}"
      ]
     },
     "execution_count": 13,
     "metadata": {},
     "output_type": "execute_result"
    }
   ],
   "source": [
    "count=doc.count_by(spacy.attrs.POS)\n",
    "count"
   ]
  },
  {
   "cell_type": "code",
   "execution_count": 14,
   "id": "8d83874c-11d7-4bc4-8ecc-eacd136bd942",
   "metadata": {},
   "outputs": [
    {
     "data": {
      "text/plain": [
       "'AUX'"
      ]
     },
     "execution_count": 14,
     "metadata": {},
     "output_type": "execute_result"
    }
   ],
   "source": [
    "doc.vocab[87].text"
   ]
  },
  {
   "cell_type": "code",
   "execution_count": 19,
   "id": "989a1583-3ae1-423e-a29e-ef2bc3a979cd",
   "metadata": {},
   "outputs": [
    {
     "name": "stdout",
     "output_type": "stream",
     "text": [
      "PROPN | 8\n",
      "NOUN | 33\n",
      "VERB | 19\n",
      "DET | 4\n",
      "ADP | 7\n",
      "NUM | 14\n",
      "PUNCT | 20\n",
      "SCONJ | 2\n",
      "ADJ | 9\n",
      "SPACE | 9\n",
      "AUX | 6\n",
      "SYM | 4\n",
      "CCONJ | 10\n",
      "ADV | 1\n",
      "X | 1\n",
      "PRON | 5\n",
      "PART | 1\n"
     ]
    }
   ],
   "source": [
    "for k, v in count.items():\n",
    "    print(doc.vocab[k].text,\"|\", v)"
   ]
  }
 ],
 "metadata": {
  "kernelspec": {
   "display_name": "Python 3 (ipykernel)",
   "language": "python",
   "name": "python3"
  },
  "language_info": {
   "codemirror_mode": {
    "name": "ipython",
    "version": 3
   },
   "file_extension": ".py",
   "mimetype": "text/x-python",
   "name": "python",
   "nbconvert_exporter": "python",
   "pygments_lexer": "ipython3",
   "version": "3.12.5"
  }
 },
 "nbformat": 4,
 "nbformat_minor": 5
}
