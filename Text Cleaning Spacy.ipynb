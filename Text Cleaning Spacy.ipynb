{
 "cells": [
  {
   "cell_type": "code",
   "execution_count": 1,
   "id": "5f282783-591f-4ade-835e-18b14e2148ae",
   "metadata": {},
   "outputs": [],
   "source": [
    "import spacy\n",
    "nlp = spacy.load(\"en_core_web_sm\")"
   ]
  },
  {
   "cell_type": "markdown",
   "id": "5d410183-76e0-4ab6-9b85-144fa5924356",
   "metadata": {},
   "source": [
    "Read a news story"
   ]
  },
  {
   "cell_type": "code",
   "execution_count": 6,
   "id": "a303114c-05fa-47fd-996f-23e74b4b14df",
   "metadata": {},
   "outputs": [
    {
     "data": {
      "text/plain": [
       "\"'Inflation rose again in April, continuing a climb that has pushed consumers to the brink and is threatening the economic expansion, the Bureau of Labor Statistics reported Wednesday.\\\\n\\\\nThe consumer price index, a broad-based measure of prices for goods and services, increased 8.3% from a year ago, higher than the Dow Jones estimate for an 8.1% gain. That represented a slight ease from MarchÃ¢â‚¬â„¢s peak but was still close to the highest level since the summer of 1982.\\\\n\\\\nRemoving volatile fo\""
      ]
     },
     "execution_count": 6,
     "metadata": {},
     "output_type": "execute_result"
    }
   ],
   "source": [
    "with open(\"news_story.txt\",\"r\") as f:\n",
    "    news_text = f.read()\n",
    "news_text[:500]"
   ]
  },
  {
   "cell_type": "markdown",
   "id": "77253d84-7d4e-450d-9656-0b54b73c66d5",
   "metadata": {},
   "source": [
    "Extract NOUN and NUM tokens"
   ]
  },
  {
   "cell_type": "code",
   "execution_count": 26,
   "id": "fff1dabe-5cdd-4048-94e0-7de2f69b7340",
   "metadata": {},
   "outputs": [],
   "source": [
    "docs=nlp(news_text)\n",
    "numeral_tokens = []\n",
    "noun_tokens = []\n",
    "for token in doc:\n",
    "    if token.pos_==\"NOUN\":\n",
    "        noun_tokens.append(token)\n",
    "    elif token.pos_==\"NUM\":\n",
    "        numeral_tokens.append(token)"
   ]
  },
  {
   "cell_type": "code",
   "execution_count": 28,
   "id": "31ef717d-d948-40ba-8e29-ee3c7468c69c",
   "metadata": {},
   "outputs": [
    {
     "data": {
      "text/plain": [
       "[8.3, 8.1, 1982.\\n\\nRemoving]"
      ]
     },
     "execution_count": 28,
     "metadata": {},
     "output_type": "execute_result"
    }
   ],
   "source": [
    "numeral_tokens[:20]"
   ]
  },
  {
   "cell_type": "code",
   "execution_count": 29,
   "id": "2b095bf8-98d8-42d3-8d30-1553a195b410",
   "metadata": {},
   "outputs": [
    {
     "data": {
      "text/plain": [
       "[Inflation,\n",
       " climb,\n",
       " consumers,\n",
       " brink,\n",
       " expansion,\n",
       " consumer,\n",
       " price,\n",
       " index,\n",
       " measure,\n",
       " prices,\n",
       " goods,\n",
       " services]"
      ]
     },
     "execution_count": 29,
     "metadata": {},
     "output_type": "execute_result"
    }
   ],
   "source": [
    "noun_tokens[:12]"
   ]
  },
  {
   "cell_type": "markdown",
   "id": "d9f69b53-3b13-4bad-b78e-de0a2d6aaf47",
   "metadata": {},
   "source": [
    "Print a count of all POS tags"
   ]
  },
  {
   "cell_type": "code",
   "execution_count": 30,
   "id": "77e24bdb-4a26-49ad-a412-0f0531c0ccc6",
   "metadata": {},
   "outputs": [
    {
     "data": {
      "text/plain": [
       "{97: 9,\n",
       " 92: 23,\n",
       " 100: 8,\n",
       " 86: 4,\n",
       " 85: 11,\n",
       " 96: 8,\n",
       " 90: 11,\n",
       " 95: 2,\n",
       " 87: 3,\n",
       " 89: 4,\n",
       " 84: 6,\n",
       " 93: 3,\n",
       " 98: 1}"
      ]
     },
     "execution_count": 30,
     "metadata": {},
     "output_type": "execute_result"
    }
   ],
   "source": [
    "count = docs.count_by(spacy.attrs.POS)\n",
    "count"
   ]
  },
  {
   "cell_type": "code",
   "execution_count": 31,
   "id": "f2fe0653-86c3-44d9-b2ae-0c55aa37caaa",
   "metadata": {},
   "outputs": [
    {
     "name": "stdout",
     "output_type": "stream",
     "text": [
      "PUNCT | 9\n",
      "NOUN | 23\n",
      "VERB | 8\n",
      "ADV | 4\n",
      "ADP | 11\n",
      "PROPN | 8\n",
      "DET | 11\n",
      "PRON | 2\n",
      "AUX | 3\n",
      "CCONJ | 4\n",
      "ADJ | 6\n",
      "NUM | 3\n",
      "SCONJ | 1\n"
     ]
    }
   ],
   "source": [
    "for k,v in count.items():\n",
    "    print(doc.vocab[k].text, \"|\",v)"
   ]
  }
 ],
 "metadata": {
  "kernelspec": {
   "display_name": "Python 3 (ipykernel)",
   "language": "python",
   "name": "python3"
  },
  "language_info": {
   "codemirror_mode": {
    "name": "ipython",
    "version": 3
   },
   "file_extension": ".py",
   "mimetype": "text/x-python",
   "name": "python",
   "nbconvert_exporter": "python",
   "pygments_lexer": "ipython3",
   "version": "3.12.5"
  }
 },
 "nbformat": 4,
 "nbformat_minor": 5
}
