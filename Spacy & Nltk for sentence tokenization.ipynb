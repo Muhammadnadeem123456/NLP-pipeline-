{
 "cells": [
  {
   "cell_type": "code",
   "execution_count": null,
   "id": "22ff4e09-e3bc-43c9-99c7-7cc0ea91bfc1",
   "metadata": {},
   "outputs": [],
   "source": [
    "# Spacy liberary...........NLP object oriented liberary \n",
    "# paragraphs to sentence"
   ]
  },
  {
   "cell_type": "code",
   "execution_count": 23,
   "id": "6446558c-9b4d-477e-962f-0627597f0e44",
   "metadata": {},
   "outputs": [
    {
     "name": "stdout",
     "output_type": "stream",
     "text": [
      "Hi this is the age of AI and data science.\n",
      "I have worked as an AI engineer and now working as a data scientist.\n"
     ]
    }
   ],
   "source": [
    "import spacy\n",
    "\n",
    "# Load the spaCy model\n",
    "nlp = spacy.load(\"en_core_web_sm\")\n",
    "\n",
    "# Process the text with the nlp pipeline\n",
    "doc = nlp(\"Hi this is the age of AI and data science. I have worked as an AI engineer and now working as a data scientist.\")\n",
    "\n",
    "# Sentence tokenization\n",
    "for sentence in doc.sents:\n",
    "    print(sentence.text)"
   ]
  },
  {
   "cell_type": "code",
   "execution_count": null,
   "id": "66d08890-9b84-47b2-a3a0-043753ba1edf",
   "metadata": {},
   "outputs": [],
   "source": [
    "# Spacy liberary...........NLP object oriented liberary \n",
    "# Sentence to word"
   ]
  },
  {
   "cell_type": "code",
   "execution_count": 25,
   "id": "92d8f1b6-5f57-4758-8299-76aa4c15c04f",
   "metadata": {},
   "outputs": [
    {
     "name": "stdout",
     "output_type": "stream",
     "text": [
      "Sentence: Hi this is the age of AI and data science.\n",
      "Word: Hi\n",
      "Word: this\n",
      "Word: is\n",
      "Word: the\n",
      "Word: age\n",
      "Word: of\n",
      "Word: AI\n",
      "Word: and\n",
      "Word: data\n",
      "Word: science\n",
      "Word: .\n",
      "Sentence: I have worked as an AI engineer and now working as a data scientist.\n",
      "Word: I\n",
      "Word: have\n",
      "Word: worked\n",
      "Word: as\n",
      "Word: an\n",
      "Word: AI\n",
      "Word: engineer\n",
      "Word: and\n",
      "Word: now\n",
      "Word: working\n",
      "Word: as\n",
      "Word: a\n",
      "Word: data\n",
      "Word: scientist\n",
      "Word: .\n"
     ]
    }
   ],
   "source": [
    "import spacy\n",
    "\n",
    "# Load the spaCy model\n",
    "nlp = spacy.load(\"en_core_web_sm\")\n",
    "\n",
    "# Process the text with the nlp pipeline\n",
    "doc = nlp(\"Hi this is the age of AI and data science. I have worked as an AI engineer and now working as a data scientist.\")\n",
    "\n",
    "# Sentence tokenization\n",
    "for sentence in doc.sents:\n",
    "    print(f\"Sentence: {sentence.text}\")\n",
    "    \n",
    "    # Word tokenization within each sentence\n",
    "    for word in sentence:\n",
    "        print(f\"Word: {word.text}\")"
   ]
  },
  {
   "cell_type": "code",
   "execution_count": null,
   "id": "feb9d7a1-e25d-4c7e-85ac-921cefca9e3a",
   "metadata": {},
   "outputs": [],
   "source": [
    "# nltk is a string preprocessing nlp liberary\n",
    "# Paragraph to sentence"
   ]
  },
  {
   "cell_type": "code",
   "execution_count": 7,
   "id": "910e24f8-1474-45a0-a22a-956477e4d044",
   "metadata": {},
   "outputs": [
    {
     "name": "stderr",
     "output_type": "stream",
     "text": [
      "[nltk_data] Downloading package punkt to\n",
      "[nltk_data]     C:\\Users\\User\\AppData\\Roaming\\nltk_data...\n",
      "[nltk_data]   Unzipping tokenizers\\punkt.zip.\n"
     ]
    },
    {
     "data": {
      "text/plain": [
       "True"
      ]
     },
     "execution_count": 7,
     "metadata": {},
     "output_type": "execute_result"
    }
   ],
   "source": [
    "import nltk\n",
    "nltk.download('punkt', force=True)"
   ]
  },
  {
   "cell_type": "code",
   "execution_count": 12,
   "id": "315d9d84-747c-4556-920f-e91d7f65f56f",
   "metadata": {},
   "outputs": [
    {
     "name": "stdout",
     "output_type": "stream",
     "text": [
      "['This is the first sentence.', 'This is the second sentence.gjghjhvkhhvhvhkvhkvhgc!', 'hvghvhgh.', 'ygftrdgvhgcyrfrdfx.', 'khbhbhuhuggccugvhv.']\n"
     ]
    }
   ],
   "source": [
    "##paragraph to sentence\n",
    "from nltk.tokenize import PunktSentenceTokenizer\n",
    "\n",
    "tokenizer = PunktSentenceTokenizer()\n",
    "corpus = \"\"\"This is the first sentence.\n",
    "This is the second sentence.gjghjhvkhhvhvhkvhkvhgc! hvghvhgh.\n",
    "ygftrdgvhgcyrfrdfx.\n",
    "khbhbhuhuggccugvhv.\"\"\"\n",
    "\n",
    "\n",
    "sentences = tokenizer.tokenize(corpus)\n",
    "print(sentences)"
   ]
  },
  {
   "cell_type": "code",
   "execution_count": null,
   "id": "524483d2-49c9-420f-8cb0-298be427c45f",
   "metadata": {},
   "outputs": [],
   "source": [
    "# nltk is a string preprocessing nlp liberary\n",
    "# Sentence to word"
   ]
  },
  {
   "cell_type": "code",
   "execution_count": 21,
   "id": "c8ba1e45-0068-405a-9284-d2ac45edaddf",
   "metadata": {},
   "outputs": [
    {
     "name": "stdout",
     "output_type": "stream",
     "text": [
      "['This', 'is', 'the', 'first', 'sentence', '.']\n",
      "['This', 'is', 'the', 'second', 'sentence', '.']\n",
      "['gjghjhvkhhvhvhkvhkvhgc', '!']\n",
      "['hvghvhgh', '.']\n",
      "['ygftrdgvhgcyrfrdfx', '.']\n",
      "['khbhbhuhuggccugvhv', '.']\n"
     ]
    }
   ],
   "source": [
    "\n",
    "# Tokenize the corpus into sentences\n",
    "sentences = tokenizer.tokenize(corpus)\n",
    "\n",
    "# Tokenize each sentence into words\n",
    "word_lists = [word_tokenize(sentence) for sentence in sentences]\n",
    "\n",
    "# Print the word lists\n",
    "for sentence in word_lists:\n",
    "    print(sentence)"
   ]
  },
  {
   "cell_type": "code",
   "execution_count": 18,
   "id": "53c58626-2840-473f-8c5d-c29ec59b14d2",
   "metadata": {},
   "outputs": [
    {
     "name": "stdout",
     "output_type": "stream",
     "text": [
      "['This', 'is', 'the', 'first', 'sentence', '.']\n",
      "['This', 'is', 'the', 'second', 'sentence', '.']\n",
      "['gjghjhvkhhvhvhkvhkvhgc', '!']\n",
      "['hvghvhgh', '.']\n",
      "['ygftrdgvhgcyrfrdfx', '.']\n",
      "['khbhbhuhuggccugvhv', '.']\n"
     ]
    }
   ],
   "source": [
    "from nltk.tokenize import sent_tokenize, word_tokenize\n",
    "\n",
    "corpus = \"\"\"This is the first sentence.\n",
    "This is the second sentence. gjghjhvkhhvhvhkvhkvhgc! hvghvhgh.\n",
    "ygftrdgvhgcyrfrdfx.\n",
    "khbhbhuhuggccugvhv.\"\"\"\n",
    "\n",
    "# Tokenize the corpus into sentences\n",
    "sentences = sent_tokenize(corpus)\n",
    "\n",
    "# Tokenize each sentence into words\n",
    "word_lists = [word_tokenize(sentence) for sentence in sentences]\n",
    "\n",
    "# Print the word lists\n",
    "for sentence in word_lists:\n",
    "    print(sentence)\n"
   ]
  },
  {
   "cell_type": "code",
   "execution_count": 26,
   "id": "975dde3a-2028-4908-9147-784728fa247f",
   "metadata": {},
   "outputs": [
    {
     "name": "stdout",
     "output_type": "stream",
     "text": [
      "Hi\n",
      "this\n",
      "is\n",
      "the\n",
      "age\n",
      "of\n",
      "AI\n",
      "and\n",
      "data\n",
      "science\n",
      ".\n",
      "I\n",
      "have\n",
      "worked\n",
      "as\n",
      "an\n",
      "AI\n",
      "engineer\n",
      "and\n",
      "now\n",
      "working\n",
      "as\n",
      "a\n",
      "data\n",
      "scientist\n",
      ".\n"
     ]
    }
   ],
   "source": [
    "import spacy\n",
    "\n",
    "# Load the spaCy model\n",
    "nlp = spacy.blank(\"en\")\n",
    "\n",
    "# Process the text with the nlp pipeline\n",
    "doc = nlp(\"Hi this is the age of AI and data science. I have worked as an AI engineer and now working as a data scientist.\")\n",
    "\n",
    "# Sentence tokenization\n",
    "for sentence in doc:\n",
    "    print(sentence)"
   ]
  },
  {
   "cell_type": "code",
   "execution_count": 27,
   "id": "25f5acfb-4dbc-413f-ae72-1a8a33ea422c",
   "metadata": {},
   "outputs": [
    {
     "name": "stdout",
     "output_type": "stream",
     "text": [
      "Hi\n",
      "let\n",
      "'s\n",
      "go\n",
      "to\n",
      "N.Y\n",
      "!\n"
     ]
    }
   ],
   "source": [
    "import spacy\n",
    "\n",
    "# Load the spaCy model\n",
    "nlp = spacy.blank(\"en\")\n",
    "# Process the text with the nlp pipeline\n",
    "doc = nlp(\"Hi let's go to N.Y!\")\n",
    "\n",
    "# Sentence tokenization\n",
    "for sentence in doc:\n",
    "    print(sentence)"
   ]
  },
  {
   "cell_type": "code",
   "execution_count": 28,
   "id": "84d78df6-e28a-4484-b0f9-9b2cf86adb82",
   "metadata": {},
   "outputs": [
    {
     "data": {
      "text/plain": [
       "spacy.lang.en.English"
      ]
     },
     "execution_count": 28,
     "metadata": {},
     "output_type": "execute_result"
    }
   ],
   "source": [
    "type(nlp)"
   ]
  },
  {
   "cell_type": "code",
   "execution_count": 29,
   "id": "86e4f65e-be5f-4bcc-a93d-4aade5d9c3b3",
   "metadata": {},
   "outputs": [
    {
     "data": {
      "text/plain": [
       "spacy.tokens.doc.Doc"
      ]
     },
     "execution_count": 29,
     "metadata": {},
     "output_type": "execute_result"
    }
   ],
   "source": [
    "type(doc)"
   ]
  }
 ],
 "metadata": {
  "kernelspec": {
   "display_name": "Python 3 (ipykernel)",
   "language": "python",
   "name": "python3"
  },
  "language_info": {
   "codemirror_mode": {
    "name": "ipython",
    "version": 3
   },
   "file_extension": ".py",
   "mimetype": "text/x-python",
   "name": "python",
   "nbconvert_exporter": "python",
   "pygments_lexer": "ipython3",
   "version": "3.12.5"
  }
 },
 "nbformat": 4,
 "nbformat_minor": 5
}
