{
 "cells": [
  {
   "cell_type": "code",
   "execution_count": 28,
   "id": "40d40ff6-ffd0-47cc-afcd-24ba1b526229",
   "metadata": {},
   "outputs": [
    {
     "name": "stderr",
     "output_type": "stream",
     "text": [
      "[nltk_data] Downloading package punkt to\n",
      "[nltk_data]     C:\\Users\\User\\AppData\\Roaming\\nltk_data...\n",
      "[nltk_data]   Unzipping tokenizers\\punkt.zip.\n"
     ]
    },
    {
     "data": {
      "text/plain": [
       "True"
      ]
     },
     "execution_count": 28,
     "metadata": {},
     "output_type": "execute_result"
    }
   ],
   "source": [
    "import nltk\n",
    "nltk.download('punkt', force=True)"
   ]
  },
  {
   "cell_type": "code",
   "execution_count": 1,
   "id": "cbb6989b-5981-4adb-a41d-abc1616dbda5",
   "metadata": {},
   "outputs": [
    {
     "name": "stdout",
     "output_type": "stream",
     "text": [
      "['This is the first sentence.', 'This is the second sentence.gjghjhvkhhvhvhkvhkvhgc!', 'hvghvhgh.', 'ygftrdgvhgcyrfrdfx.', 'khbhbhuhuggccugvhv.']\n"
     ]
    }
   ],
   "source": [
    "##paragraph to sentence\n",
    "from nltk.tokenize import PunktSentenceTokenizer, word_tokenize\n",
    "\n",
    "tokenizer = PunktSentenceTokenizer()\n",
    "corpus = \"\"\"This is the first sentence.\n",
    "This is the second sentence.gjghjhvkhhvhvhkvhkvhgc! hvghvhgh.\n",
    "ygftrdgvhgcyrfrdfx.\n",
    "khbhbhuhuggccugvhv.\"\"\"\n",
    "\n",
    "\n",
    "sentences = tokenizer.tokenize(corpus)\n",
    "print(sentences)\n"
   ]
  },
  {
   "cell_type": "code",
   "execution_count": null,
   "id": "606d8781-073e-4d23-950e-8f7b3bbe4a40",
   "metadata": {},
   "outputs": [],
   "source": []
  }
 ],
 "metadata": {
  "kernelspec": {
   "display_name": "Python 3 (ipykernel)",
   "language": "python",
   "name": "python3"
  },
  "language_info": {
   "codemirror_mode": {
    "name": "ipython",
    "version": 3
   },
   "file_extension": ".py",
   "mimetype": "text/x-python",
   "name": "python",
   "nbconvert_exporter": "python",
   "pygments_lexer": "ipython3",
   "version": "3.12.5"
  }
 },
 "nbformat": 4,
 "nbformat_minor": 5
}
